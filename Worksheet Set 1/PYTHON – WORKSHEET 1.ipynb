{
 "cells": [
  {
   "cell_type": "markdown",
   "id": "5649a03d",
   "metadata": {},
   "source": [
    "11. Write a python program to find the factorial of a number."
   ]
  },
  {
   "cell_type": "code",
   "execution_count": 17,
   "id": "8c1212e5",
   "metadata": {},
   "outputs": [
    {
     "name": "stdout",
     "output_type": "stream",
     "text": [
      "120\n"
     ]
    }
   ],
   "source": [
    "n=5\n",
    "Factorial=1\n",
    "for i in range(n,0,-1):\n",
    "         Result = Fact*i\n",
    "print (Result)"
   ]
  },
  {
   "cell_type": "markdown",
   "id": "73baceb9",
   "metadata": {},
   "source": [
    "12. Write a python program to find whether a number is prime or composite."
   ]
  },
  {
   "cell_type": "code",
   "execution_count": 29,
   "id": "b56e97fd",
   "metadata": {},
   "outputs": [
    {
     "name": "stdout",
     "output_type": "stream",
     "text": [
      "5 is a prime number\n"
     ]
    }
   ],
   "source": [
    "n=5\n",
    "if n>1:\n",
    " for i in range(2,n):\n",
    "    if (n%i)==0:\n",
    "     print (n,\"is not a prime number\")\n",
    "     break\n",
    " else:\n",
    "    print(n,\"is a prime number\")\n",
    "else:\n",
    "    print (n,\"is not a prime number\")\n",
    "    "
   ]
  },
  {
   "cell_type": "markdown",
   "id": "fb6edc1b",
   "metadata": {},
   "source": [
    "13. Write a python program to check whether a given string is palindrome or not."
   ]
  },
  {
   "cell_type": "code",
   "execution_count": 36,
   "id": "f4cd5646",
   "metadata": {},
   "outputs": [
    {
     "name": "stdout",
     "output_type": "stream",
     "text": [
      "madam is a Palindrome\n"
     ]
    }
   ],
   "source": [
    "str=\"madam\"\n",
    "Palindrome= str[::-1]\n",
    "if (str==Palindrome):\n",
    "    print(str, \"is a Palindrome\")\n",
    "else: \n",
    "    print (str, \"is not a Palindrome\")"
   ]
  },
  {
   "cell_type": "markdown",
   "id": "08e6035d",
   "metadata": {},
   "source": [
    "14. Write a Python program to get the third side of right-angled triangle from two given sides."
   ]
  },
  {
   "cell_type": "code",
   "execution_count": 42,
   "id": "466dcaca",
   "metadata": {},
   "outputs": [
    {
     "name": "stdout",
     "output_type": "stream",
     "text": [
      "the third side of right-angled triangle from two given sides is 18.027756377319946\n"
     ]
    }
   ],
   "source": [
    "a= 10\n",
    "b= 15\n",
    "\n",
    "from math import sqrt\n",
    "\n",
    "c= sqrt (a**2 + b**2)\n",
    "print(\"the third side of right-angled triangle from two given sides is\", c)"
   ]
  },
  {
   "cell_type": "markdown",
   "id": "8c084eab",
   "metadata": {},
   "source": [
    "15. Write a python program to print the frequency of each of the characters present in a given string."
   ]
  },
  {
   "cell_type": "code",
   "execution_count": null,
   "id": "dba6fc71",
   "metadata": {},
   "outputs": [],
   "source": []
  }
 ],
 "metadata": {
  "kernelspec": {
   "display_name": "Python 3 (ipykernel)",
   "language": "python",
   "name": "python3"
  },
  "language_info": {
   "codemirror_mode": {
    "name": "ipython",
    "version": 3
   },
   "file_extension": ".py",
   "mimetype": "text/x-python",
   "name": "python",
   "nbconvert_exporter": "python",
   "pygments_lexer": "ipython3",
   "version": "3.10.9"
  }
 },
 "nbformat": 4,
 "nbformat_minor": 5
}
